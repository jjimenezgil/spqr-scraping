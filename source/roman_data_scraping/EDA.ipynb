{
 "cells": [
  {
   "cell_type": "code",
   "execution_count": 1,
   "id": "3ec32670-80b6-48f0-8110-bcbe00116e50",
   "metadata": {},
   "outputs": [],
   "source": [
    "import pandas as pd\n",
    "import re\n",
    "from tqdm.notebook import trange, tqdm"
   ]
  },
  {
   "cell_type": "code",
   "execution_count": 2,
   "id": "1b2391f0-0e21-4ae3-bff3-e8d64d79237f",
   "metadata": {},
   "outputs": [],
   "source": [
    "df = pd.read_csv(\"../dataset/sources.csv\")"
   ]
  },
  {
   "cell_type": "code",
   "execution_count": 3,
   "id": "f1337153-c98d-467f-bbf1-3ef64909dca4",
   "metadata": {},
   "outputs": [
    {
     "data": {
      "text/html": [
       "<div>\n",
       "<style scoped>\n",
       "    .dataframe tbody tr th:only-of-type {\n",
       "        vertical-align: middle;\n",
       "    }\n",
       "\n",
       "    .dataframe tbody tr th {\n",
       "        vertical-align: top;\n",
       "    }\n",
       "\n",
       "    .dataframe thead th {\n",
       "        text-align: right;\n",
       "    }\n",
       "</style>\n",
       "<table border=\"1\" class=\"dataframe\">\n",
       "  <thead>\n",
       "    <tr style=\"text-align: right;\">\n",
       "      <th></th>\n",
       "      <th>author</th>\n",
       "      <th>title</th>\n",
       "      <th>section</th>\n",
       "      <th>text</th>\n",
       "    </tr>\n",
       "  </thead>\n",
       "  <tbody>\n",
       "    <tr>\n",
       "      <th>0</th>\n",
       "      <td>Aeschylus</td>\n",
       "      <td>Agamemnon</td>\n",
       "      <td>lines 1-39</td>\n",
       "      <td>Release from this weary task of mine has been ...</td>\n",
       "    </tr>\n",
       "    <tr>\n",
       "      <th>1</th>\n",
       "      <td>M. Tullius Cicero</td>\n",
       "      <td>Speech before Roman Citizens on Behalf of Gaiu...</td>\n",
       "      <td>section 1</td>\n",
       "      <td>Although, Roman citizens, my custom at the out...</td>\n",
       "    </tr>\n",
       "    <tr>\n",
       "      <th>2</th>\n",
       "      <td>M. Tullius Cicero</td>\n",
       "      <td>Orations, The fourteen orations against Marcus...</td>\n",
       "      <td>THE FOURTEEN ORATIONS OF M. T. CICERO AGAINST ...</td>\n",
       "      <td>Before, O conscript fathers, I say those thing...</td>\n",
       "    </tr>\n",
       "    <tr>\n",
       "      <th>3</th>\n",
       "      <td>M. Tullius Cicero</td>\n",
       "      <td>Letters</td>\n",
       "      <td>PREFACE</td>\n",
       "      <td>PREFACE The object of this book is to give the...</td>\n",
       "    </tr>\n",
       "    <tr>\n",
       "      <th>4</th>\n",
       "      <td>M. Tullius Cicero</td>\n",
       "      <td>Laelius on friendship</td>\n",
       "      <td>section 1</td>\n",
       "      <td>QUINTUS MUCIUS SCAEVOLA, the augur, used to re...</td>\n",
       "    </tr>\n",
       "    <tr>\n",
       "      <th>...</th>\n",
       "      <td>...</td>\n",
       "      <td>...</td>\n",
       "      <td>...</td>\n",
       "      <td>...</td>\n",
       "    </tr>\n",
       "    <tr>\n",
       "      <th>8892</th>\n",
       "      <td>Quintilian</td>\n",
       "      <td>Institutio Oratoria, Book 1</td>\n",
       "      <td>, chapter 6, section 31</td>\n",
       "      <td>[ 31 ] Such a science demands profound eruditi...</td>\n",
       "    </tr>\n",
       "    <tr>\n",
       "      <th>8893</th>\n",
       "      <td>Quintilian</td>\n",
       "      <td>Institutio Oratoria, Book 3</td>\n",
       "      <td>, chapter 5, section 40</td>\n",
       "      <td>[ 40 ] For quite apart from the fact that the ...</td>\n",
       "    </tr>\n",
       "    <tr>\n",
       "      <th>8894</th>\n",
       "      <td>Plato</td>\n",
       "      <td>Euthyphro</td>\n",
       "      <td>Euthyphro, section 6d</td>\n",
       "      <td>[ 6d ] For, my friend, you did not give me suf...</td>\n",
       "    </tr>\n",
       "    <tr>\n",
       "      <th>8895</th>\n",
       "      <td>Plato</td>\n",
       "      <td>Symposium</td>\n",
       "      <td>Symposium</td>\n",
       "      <td>[ 214d ] Besides, my gifted friend, you are su...</td>\n",
       "    </tr>\n",
       "    <tr>\n",
       "      <th>8896</th>\n",
       "      <td>Quintilian</td>\n",
       "      <td>Institutio Oratoria, Book 5</td>\n",
       "      <td>, section 13</td>\n",
       "      <td>[ 13 ] The cumulative force of these arguments...</td>\n",
       "    </tr>\n",
       "  </tbody>\n",
       "</table>\n",
       "<p>8897 rows × 4 columns</p>\n",
       "</div>"
      ],
      "text/plain": [
       "                 author                                              title  \\\n",
       "0             Aeschylus                                          Agamemnon   \n",
       "1     M. Tullius Cicero  Speech before Roman Citizens on Behalf of Gaiu...   \n",
       "2     M. Tullius Cicero  Orations, The fourteen orations against Marcus...   \n",
       "3     M. Tullius Cicero                                            Letters   \n",
       "4     M. Tullius Cicero                              Laelius on friendship   \n",
       "...                 ...                                                ...   \n",
       "8892         Quintilian                        Institutio Oratoria, Book 1   \n",
       "8893         Quintilian                        Institutio Oratoria, Book 3   \n",
       "8894              Plato                                          Euthyphro   \n",
       "8895              Plato                                          Symposium   \n",
       "8896         Quintilian                        Institutio Oratoria, Book 5   \n",
       "\n",
       "                                                section  \\\n",
       "0                                            lines 1-39   \n",
       "1                                             section 1   \n",
       "2     THE FOURTEEN ORATIONS OF M. T. CICERO AGAINST ...   \n",
       "3                                               PREFACE   \n",
       "4                                             section 1   \n",
       "...                                                 ...   \n",
       "8892                            , chapter 6, section 31   \n",
       "8893                            , chapter 5, section 40   \n",
       "8894                              Euthyphro, section 6d   \n",
       "8895                                          Symposium   \n",
       "8896                                       , section 13   \n",
       "\n",
       "                                                   text  \n",
       "0     Release from this weary task of mine has been ...  \n",
       "1     Although, Roman citizens, my custom at the out...  \n",
       "2     Before, O conscript fathers, I say those thing...  \n",
       "3     PREFACE The object of this book is to give the...  \n",
       "4     QUINTUS MUCIUS SCAEVOLA, the augur, used to re...  \n",
       "...                                                 ...  \n",
       "8892  [ 31 ] Such a science demands profound eruditi...  \n",
       "8893  [ 40 ] For quite apart from the fact that the ...  \n",
       "8894  [ 6d ] For, my friend, you did not give me suf...  \n",
       "8895  [ 214d ] Besides, my gifted friend, you are su...  \n",
       "8896  [ 13 ] The cumulative force of these arguments...  \n",
       "\n",
       "[8897 rows x 4 columns]"
      ]
     },
     "execution_count": 3,
     "metadata": {},
     "output_type": "execute_result"
    }
   ],
   "source": [
    "df"
   ]
  },
  {
   "cell_type": "code",
   "execution_count": 7,
   "id": "7a3dbfdb-26f2-41c0-a77d-e1fd744256e4",
   "metadata": {},
   "outputs": [],
   "source": [
    "df_dict = df.to_dict(orient=\"records\")"
   ]
  },
  {
   "cell_type": "code",
   "execution_count": 16,
   "id": "abcb864e-84b7-49e0-bb0b-5e1226757ab9",
   "metadata": {},
   "outputs": [
    {
     "data": {
      "application/vnd.jupyter.widget-view+json": {
       "model_id": "26eaa761353044ccb67843dccb91c117",
       "version_major": 2,
       "version_minor": 0
      },
      "text/plain": [
       "  0%|          | 0/33605 [00:00<?, ?it/s]"
      ]
     },
     "metadata": {},
     "output_type": "display_data"
    }
   ],
   "source": [
    "results = []\n",
    "\n",
    "for elem in tqdm(df_dict):\n",
    "    if elem[\"author\"] == \"Sophocles\":\n",
    "        results.append(elem)"
   ]
  },
  {
   "cell_type": "code",
   "execution_count": 17,
   "id": "a2e9742c-3437-4cf4-8fa6-86dc8e8b5506",
   "metadata": {},
   "outputs": [
    {
     "data": {
      "text/plain": [
       "[]"
      ]
     },
     "execution_count": 17,
     "metadata": {},
     "output_type": "execute_result"
    }
   ],
   "source": [
    "results"
   ]
  },
  {
   "cell_type": "code",
   "execution_count": null,
   "id": "81e0ae68-0fb4-4502-a009-de5961e8e952",
   "metadata": {},
   "outputs": [],
   "source": []
  }
 ],
 "metadata": {
  "kernelspec": {
   "display_name": "Python 3 (ipykernel)",
   "language": "python",
   "name": "python3"
  },
  "language_info": {
   "codemirror_mode": {
    "name": "ipython",
    "version": 3
   },
   "file_extension": ".py",
   "mimetype": "text/x-python",
   "name": "python",
   "nbconvert_exporter": "python",
   "pygments_lexer": "ipython3",
   "version": "3.12.1"
  }
 },
 "nbformat": 4,
 "nbformat_minor": 5
}
