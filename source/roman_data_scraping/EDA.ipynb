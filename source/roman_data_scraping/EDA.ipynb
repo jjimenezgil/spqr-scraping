{
 "cells": [
  {
   "cell_type": "code",
   "execution_count": 9,
   "id": "3ec32670-80b6-48f0-8110-bcbe00116e50",
   "metadata": {},
   "outputs": [],
   "source": [
    "import pandas as pd\n",
    "import re\n",
    "from tqdm.notebook import trange, tqdm"
   ]
  },
  {
   "cell_type": "code",
   "execution_count": 2,
   "id": "1b2391f0-0e21-4ae3-bff3-e8d64d79237f",
   "metadata": {},
   "outputs": [],
   "source": [
    "df = pd.read_csv(\"../dataset/sources.csv\")"
   ]
  },
  {
   "cell_type": "code",
   "execution_count": 3,
   "id": "f1337153-c98d-467f-bbf1-3ef64909dca4",
   "metadata": {},
   "outputs": [
    {
     "data": {
      "text/html": [
       "<div>\n",
       "<style scoped>\n",
       "    .dataframe tbody tr th:only-of-type {\n",
       "        vertical-align: middle;\n",
       "    }\n",
       "\n",
       "    .dataframe tbody tr th {\n",
       "        vertical-align: top;\n",
       "    }\n",
       "\n",
       "    .dataframe thead th {\n",
       "        text-align: right;\n",
       "    }\n",
       "</style>\n",
       "<table border=\"1\" class=\"dataframe\">\n",
       "  <thead>\n",
       "    <tr style=\"text-align: right;\">\n",
       "      <th></th>\n",
       "      <th>author</th>\n",
       "      <th>title</th>\n",
       "      <th>section</th>\n",
       "      <th>text</th>\n",
       "    </tr>\n",
       "  </thead>\n",
       "  <tbody>\n",
       "    <tr>\n",
       "      <th>0</th>\n",
       "      <td>Aeschylus</td>\n",
       "      <td>Agamemnon</td>\n",
       "      <td>lines 1-39</td>\n",
       "      <td>Release from this weary task of mine has been ...</td>\n",
       "    </tr>\n",
       "    <tr>\n",
       "      <th>1</th>\n",
       "      <td>M. Tullius Cicero</td>\n",
       "      <td>Speech before Roman Citizens on Behalf of Gaiu...</td>\n",
       "      <td>section 1</td>\n",
       "      <td>Although, Roman citizens, my custom at the out...</td>\n",
       "    </tr>\n",
       "    <tr>\n",
       "      <th>2</th>\n",
       "      <td>M. Tullius Cicero</td>\n",
       "      <td>Orations, The fourteen orations against Marcus...</td>\n",
       "      <td>THE FOURTEEN ORATIONS OF M. T. CICERO AGAINST ...</td>\n",
       "      <td>Before, O conscript fathers, I say those thing...</td>\n",
       "    </tr>\n",
       "    <tr>\n",
       "      <th>3</th>\n",
       "      <td>M. Tullius Cicero</td>\n",
       "      <td>Letters</td>\n",
       "      <td>PREFACE</td>\n",
       "      <td>PREFACE The object of this book is to give the...</td>\n",
       "    </tr>\n",
       "    <tr>\n",
       "      <th>4</th>\n",
       "      <td>M. Tullius Cicero</td>\n",
       "      <td>Laelius on friendship</td>\n",
       "      <td>section 1</td>\n",
       "      <td>QUINTUS MUCIUS SCAEVOLA, the augur, used to re...</td>\n",
       "    </tr>\n",
       "    <tr>\n",
       "      <th>...</th>\n",
       "      <td>...</td>\n",
       "      <td>...</td>\n",
       "      <td>...</td>\n",
       "      <td>...</td>\n",
       "    </tr>\n",
       "    <tr>\n",
       "      <th>33600</th>\n",
       "      <td>M. Tullius Cicero</td>\n",
       "      <td>For Rabirius Postumus</td>\n",
       "      <td>THE SPEECH OF M. T. CICERO IN DEFENCE OF CAIUS...</td>\n",
       "      <td>[ 10 ] Therefore, when actions were being brou...</td>\n",
       "    </tr>\n",
       "    <tr>\n",
       "      <th>33601</th>\n",
       "      <td>M. Tullius Cicero</td>\n",
       "      <td>For King Deiotarius</td>\n",
       "      <td>, section 23</td>\n",
       "      <td>[ 23 ] “Oh, but he sent to Caecilius; I don't ...</td>\n",
       "    </tr>\n",
       "    <tr>\n",
       "      <th>33602</th>\n",
       "      <td>M. Tullius Cicero</td>\n",
       "      <td>For Publius Quinctius</td>\n",
       "      <td>The speech of M. T. Cicero as the advocate of ...</td>\n",
       "      <td>[ 24 ] He goes; he leaves Rome on the twenty-n...</td>\n",
       "    </tr>\n",
       "    <tr>\n",
       "      <th>33603</th>\n",
       "      <td>M. Tullius Cicero</td>\n",
       "      <td>For Marcellus</td>\n",
       "      <td>, section 19</td>\n",
       "      <td>[ 19 ] Rejoice, then, in that admirable and vi...</td>\n",
       "    </tr>\n",
       "    <tr>\n",
       "      <th>33604</th>\n",
       "      <td>M. Tullius Cicero</td>\n",
       "      <td>For Ligarius</td>\n",
       "      <td>THE SPEECH OF M. T. CICERO IN DEFENCE OF QUINT...</td>\n",
       "      <td>[ 20 ] But to say no more of the general quest...</td>\n",
       "    </tr>\n",
       "  </tbody>\n",
       "</table>\n",
       "<p>33605 rows × 4 columns</p>\n",
       "</div>"
      ],
      "text/plain": [
       "                  author                                              title  \\\n",
       "0              Aeschylus                                          Agamemnon   \n",
       "1      M. Tullius Cicero  Speech before Roman Citizens on Behalf of Gaiu...   \n",
       "2      M. Tullius Cicero  Orations, The fourteen orations against Marcus...   \n",
       "3      M. Tullius Cicero                                            Letters   \n",
       "4      M. Tullius Cicero                              Laelius on friendship   \n",
       "...                  ...                                                ...   \n",
       "33600  M. Tullius Cicero                              For Rabirius Postumus   \n",
       "33601  M. Tullius Cicero                                For King Deiotarius   \n",
       "33602  M. Tullius Cicero                              For Publius Quinctius   \n",
       "33603  M. Tullius Cicero                                      For Marcellus   \n",
       "33604  M. Tullius Cicero                                       For Ligarius   \n",
       "\n",
       "                                                 section  \\\n",
       "0                                             lines 1-39   \n",
       "1                                              section 1   \n",
       "2      THE FOURTEEN ORATIONS OF M. T. CICERO AGAINST ...   \n",
       "3                                                PREFACE   \n",
       "4                                              section 1   \n",
       "...                                                  ...   \n",
       "33600  THE SPEECH OF M. T. CICERO IN DEFENCE OF CAIUS...   \n",
       "33601                                       , section 23   \n",
       "33602  The speech of M. T. Cicero as the advocate of ...   \n",
       "33603                                       , section 19   \n",
       "33604  THE SPEECH OF M. T. CICERO IN DEFENCE OF QUINT...   \n",
       "\n",
       "                                                    text  \n",
       "0      Release from this weary task of mine has been ...  \n",
       "1      Although, Roman citizens, my custom at the out...  \n",
       "2      Before, O conscript fathers, I say those thing...  \n",
       "3      PREFACE The object of this book is to give the...  \n",
       "4      QUINTUS MUCIUS SCAEVOLA, the augur, used to re...  \n",
       "...                                                  ...  \n",
       "33600  [ 10 ] Therefore, when actions were being brou...  \n",
       "33601  [ 23 ] “Oh, but he sent to Caecilius; I don't ...  \n",
       "33602  [ 24 ] He goes; he leaves Rome on the twenty-n...  \n",
       "33603  [ 19 ] Rejoice, then, in that admirable and vi...  \n",
       "33604  [ 20 ] But to say no more of the general quest...  \n",
       "\n",
       "[33605 rows x 4 columns]"
      ]
     },
     "execution_count": 3,
     "metadata": {},
     "output_type": "execute_result"
    }
   ],
   "source": [
    "df"
   ]
  },
  {
   "cell_type": "code",
   "execution_count": 7,
   "id": "7a3dbfdb-26f2-41c0-a77d-e1fd744256e4",
   "metadata": {},
   "outputs": [],
   "source": [
    "df_dict = df.to_dict(orient=\"records\")"
   ]
  },
  {
   "cell_type": "code",
   "execution_count": 16,
   "id": "abcb864e-84b7-49e0-bb0b-5e1226757ab9",
   "metadata": {},
   "outputs": [
    {
     "data": {
      "application/vnd.jupyter.widget-view+json": {
       "model_id": "26eaa761353044ccb67843dccb91c117",
       "version_major": 2,
       "version_minor": 0
      },
      "text/plain": [
       "  0%|          | 0/33605 [00:00<?, ?it/s]"
      ]
     },
     "metadata": {},
     "output_type": "display_data"
    }
   ],
   "source": [
    "results = []\n",
    "\n",
    "for elem in tqdm(df_dict):\n",
    "    if elem[\"author\"] == \"Sophocles\":\n",
    "        results.append(elem)"
   ]
  },
  {
   "cell_type": "code",
   "execution_count": 17,
   "id": "a2e9742c-3437-4cf4-8fa6-86dc8e8b5506",
   "metadata": {},
   "outputs": [
    {
     "data": {
      "text/plain": [
       "[]"
      ]
     },
     "execution_count": 17,
     "metadata": {},
     "output_type": "execute_result"
    }
   ],
   "source": [
    "results"
   ]
  },
  {
   "cell_type": "code",
   "execution_count": null,
   "id": "81e0ae68-0fb4-4502-a009-de5961e8e952",
   "metadata": {},
   "outputs": [],
   "source": []
  }
 ],
 "metadata": {
  "kernelspec": {
   "display_name": "Python 3 (ipykernel)",
   "language": "python",
   "name": "python3"
  },
  "language_info": {
   "codemirror_mode": {
    "name": "ipython",
    "version": 3
   },
   "file_extension": ".py",
   "mimetype": "text/x-python",
   "name": "python",
   "nbconvert_exporter": "python",
   "pygments_lexer": "ipython3",
   "version": "3.12.1"
  }
 },
 "nbformat": 4,
 "nbformat_minor": 5
}
